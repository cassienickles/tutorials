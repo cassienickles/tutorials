{
 "cells": [
  {
   "cell_type": "markdown",
   "metadata": {},
   "source": [
    "# SMAP Sea Surface Salinity and IMERG Precipitation Tutorial\n",
    "\n",
    "This tutorial uses the Earthdata Search ([https://search.earthdata.nasa.gov/](https://search.earthdata.nasa.gov/)) to download the data on your local machine. You will need to create an account in order to download the data.\n",
    "\n",
    "## Datasets:\n",
    "\n",
    "1. **JPL SMAP L3 Dataset:** [https://podaac.jpl.nasa.gov/dataset/SMAP_JPL_L3_SSS_CAP_8DAY-RUNNINGMEAN_V5?ids=&values=&search=Smap Level 3&provider=POCLOUD](https://podaac.jpl.nasa.gov/dataset/SMAP_JPL_L3_SSS_CAP_8DAY-RUNNINGMEAN_V5?ids=&values=&search=Smap%20Level%203&provider=POCLOUD)\n",
    "    \n",
    "2. **GPM IMERG Late Precipitation:** [https://disc.gsfc.nasa.gov/datasets/GPM_3IMERGDL_06/summary?keywords=gpm imerg](https://disc.gsfc.nasa.gov/datasets/GPM_3IMERGDL_06/summary?keywords=gpm%20imerg)\n",
    "\n",
    "## Learning Objectives:\n",
    "\n",
    "Uses python to plot the SMAP sea surface salinity anomalies over the ocean and the IMERG precipitation over the land. The final result of the plot will look similar to this:"
   ]
  },
  {
   "cell_type": "markdown",
   "metadata": {},
   "source": [
    "## Import needed packages"
   ]
  },
  {
   "cell_type": "code",
   "execution_count": null,
   "metadata": {},
   "outputs": [],
   "source": [
    "import glob\n",
    "import numpy as np\n",
    "import xarray as xr\n",
    "import hvplot.xarray\n",
    "import matplotlib.pyplot as plt\n",
    "import cartopy.crs as ccrs\n",
    "import cartopy.feature as cfeature\n",
    "from datetime import datetime\n",
    "import os"
   ]
  },
  {
   "cell_type": "markdown",
   "metadata": {},
   "source": [
    "## Load directories"
   ]
  },
  {
   "cell_type": "code",
   "execution_count": null,
   "metadata": {},
   "outputs": [],
   "source": [
    "#Replace with your directory \n",
    "base_directory = \"/Users/username\" \n",
    "\n",
    "#Replace with your directory. This will be the output for plots\n",
    "outputpath = (os.path.join(base_directory, 'Desktop/plots/'))"
   ]
  },
  {
   "cell_type": "markdown",
   "metadata": {},
   "source": [
    "## Open subset_location the SMAP SSS data for a specified subset"
   ]
  },
  {
   "cell_type": "code",
   "execution_count": null,
   "metadata": {},
   "outputs": [],
   "source": [
    "#the subset used to determine which values are plotted\n",
    "subset_bounds = ['20221226', '20230116'] \n",
    "\n",
    "#calculates the mean over the same time period as the plotted values\n",
    "subset_mean_bounds = subset_bounds \n",
    "\n",
    "#Replace with your directory of SMAP files\n",
    "allsubset_files = xr.open_mfdataset(os.path.join(base_directory, 'Desktop/jpl_smap_l3/SMAP*.nc*'))\n",
    "\n",
    "\n",
    "#grabs smap data from 12-26-2015 to 01-16-2023\n",
    "allsubset_files = allsubset_files.sel(time=(allsubset_files['time'].dt.strftime('%m%d') >= subset_mean_bounds[0][4:8]) | (allsubset_files['time'].dt.strftime('%m%d') <= subset_mean_bounds[1][4:8]))\n",
    "allsubset_files['time'].values\n"
   ]
  },
  {
   "cell_type": "markdown",
   "metadata": {},
   "source": [
    "## Calculates the mean"
   ]
  },
  {
   "cell_type": "code",
   "execution_count": null,
   "metadata": {},
   "outputs": [],
   "source": [
    "#subsets to the location of the pacific coast and California \n",
    "subset_location = allsubset_files.where((allsubset_files.latitude>20)&(allsubset_files.latitude<50)&(allsubset_files.longitude>-140)&(allsubset_files.longitude<-100), drop=True)\n",
    "\n",
    "#calculates the mean for the 'smap_sss' variable\n",
    "subset_mean_values = np.nanmean(subset_location['smap_sss'], axis=0)\n",
    "\n",
    "#gets rid of past mean value if you were to run this code again with different dates\n",
    "if 'backup_subset_mean_values' in globals():\n",
    "    del backup_subset_mean_values\n",
    "    \n",
    "#plots the figure and saves it to your output path\n",
    "fig = plt.figure(figsize= (16,10))\n",
    "ax = fig.add_subplot(1, 1, 1, projection=ccrs.PlateCarree())\n",
    "s = plt.pcolormesh(subset_location.longitude, subset_location.latitude, subset_mean_values, vmin =  33, vmax= 35, cmap = 'rainbow', transform = ccrs.PlateCarree())\n",
    "cb = plt.colorbar(s)\n",
    "cb.set_label('psu')\n",
    "ax.set_title(f'SSS mean over 12/26 to 1/16 (2015-2023)', size = 24)\n",
    "ax.grid()\n",
    "ax.add_feature(cfeature.OCEAN)\n",
    "ax.add_feature(cfeature.LAND)\n",
    "ax.add_feature(cfeature.LAKES)\n",
    "ax.add_feature(cfeature.RIVERS)\n",
    "ax.add_feature(cfeature.STATES)\n",
    "ax.coastlines()\n",
    "ax.set_xlim(-130, -115)\n",
    "ax.set_ylim(32, 42.5)\n",
    "\n",
    "#saves figure to output path \n",
    "plt.savefig(outputpath+datetime.now().strftime(\"%Y%m%d-%H%M%S\")+'.png',dpi=400, facecolor='w', transparent=False, bbox_inches='tight')"
   ]
  },
  {
   "cell_type": "markdown",
   "metadata": {},
   "source": [
    "## plot the anomalies for subset bounds"
   ]
  },
  {
   "cell_type": "code",
   "execution_count": null,
   "metadata": {},
   "outputs": [],
   "source": [
    "#Plots precip data only over land, using a colorscale\n",
    "mode_choice = 2 \n",
    "\n",
    "#currently, the line below is commented but you can uncomment this line and it will display raw SSS values (doesnt calculate anomalies) \n",
    "#calc_anomaly = 0 \n",
    "\n",
    "#calculate anomalies relative to the mean\n",
    "calc_anomaly = 1 \n",
    "\n",
    "#Replace with your dictory for IMERG precip data\n",
    "directory = os.path.join(base_directory, 'Desktop/imerg_precip')\n",
    "if 'backup_subset_mean_values' not in globals():\n",
    "    backup_subset_mean_values = subset_mean_values\n",
    "\n",
    "#raw sss values\n",
    "if calc_anomaly == 0:\n",
    "    subset_mean_values = 0\n",
    "    smin = 31\n",
    "    smax = 34.5  \n",
    "    smap = 'rainbow'\n",
    "\n",
    "#anomaly values\n",
    "if calc_anomaly != 0:\n",
    "    subset_mean_values = backup_subset_mean_values \n",
    "    smin = -1\n",
    "    smax = +1 \n",
    "    smap = 'seismic'\n",
    "\n",
    "#grabs the sss file date for the subset location and plots anomalies\n",
    "sss_subset = sorted(glob.glob(os.path.join(base_directory, 'Desktop/jpl_smap_l3/SMAP*.nc*')))\n",
    "for filename in sss_subset:\n",
    "    file_date = filename.split('_')[-3].replace('.nc', '')\n",
    "    updated_file_date = file_date[0:4]+'-'+file_date[4:6]+'-'+file_date[6:8]\n",
    "    if int(file_date) < int(subset_bounds[0]) or int(file_date) > int(subset_bounds[1]):\n",
    "        continue\n",
    "    print(file_date)\n",
    "    sss_ds = xr.open_dataset(filename)\n",
    "    try:\n",
    "        sss_ds = sss_ds.where((sss_ds.latitude>20)&(sss_ds.latitude<50)&(sss_ds.longitude>-140)&(sss_ds.longitude<-100), drop=True)- subset_mean_values\n",
    "        if sss_ds.smap_sss.size == 0:\n",
    "            continue\n",
    "    except Exception as e:\n",
    "        print(e)\n",
    "        continue\n",
    "    plt.rcParams.update({\"font.size\": 24})\n",
    "    fig = plt.figure(figsize= (16,10))\n",
    "    ax = fig.add_subplot(1, 1, 1, projection=ccrs.PlateCarree())\n",
    "\n",
    "    #grabs the precip file date for the subset location and plots  \n",
    "    substring = file_date\n",
    "    precip_counter = 0\n",
    "    for file_path in glob.glob(os.path.join(directory, f'*{substring}*')):\n",
    "        precip_counter += 1\n",
    "        if precip_counter >1:\n",
    "            crashnow\n",
    "        print(file_path)\n",
    "        precip = xr.open_dataset(file_path)\n",
    "        precip = precip.where((precip.lat>20)&(precip.lat<50)&(precip.lon>-140)&(precip.lon<-100),drop=True)\n",
    "        val = 24*precip.HQprecipitation[0,:,:]/(0.5*precip.HQprecipitation_cnt[0,:,:])\n",
    "        if mode_choice == 2: \n",
    "            p = plt.pcolormesh(precip.lon,precip.lat,val.transpose(), cmap = 'viridis', vmax = 20, vmin = 0, transform = ccrs.PlateCarree())\n",
    "        cb = plt.colorbar(p, fraction=0.046, pad=0.04)\n",
    "        cb.set_label('mm/day')\n",
    "\n",
    "    #the line below plots the raw sss values if its uncommented\n",
    "    s = plt.pcolormesh(sss_ds.longitude, sss_ds.latitude, sss_ds.smap_sss, vmin = smin, vmax = smax, cmap = smap, transform = ccrs.PlateCarree())\n",
    "    \n",
    "    #adds the colorbar and features to the plot\n",
    "    cb = plt.colorbar(s, location = 'left', fraction=0.046, pad=0.04)\n",
    "    if calc_anomaly == 1:\n",
    "        cb.set_label(f'psu anomalies wrt mean of 12/26 to 1/16 (2015-23)')\n",
    "        ax.set_title(f'SSS Anomaly over ocean, Precipitation on land\\n{updated_file_date}', size = 24)\n",
    "    if calc_anomaly != 1:\n",
    "        cb.set_label('psu')\n",
    "        ax.set_title(f'SSS over ocean, Precipitation on land\\n{updated_file_date}', size = 24)\n",
    "    ax.grid()\n",
    "    ax.add_feature(cfeature.OCEAN)\n",
    "    ax.add_feature(cfeature.LAND)\n",
    "    ax.add_feature(cfeature.LAKES)\n",
    "    ax.add_feature(cfeature.RIVERS)\n",
    "    ax.add_feature(cfeature.STATES)\n",
    "    ax.coastlines()\n",
    "    ax.set_xlim(-130, -115)\n",
    "    ax.set_ylim(32, 42.5)\n",
    "\n",
    "    #saves figure to output path \n",
    "    plt.savefig(outputpath+datetime.now().strftime(\"%Y%m%d-%H%M%S\")+'.png',dpi=400, facecolor='w', transparent=False, bbox_inches='tight')"
   ]
  }
 ],
 "metadata": {
  "kernelspec": {
   "display_name": "Python 3.9.12 ('plotting')",
   "language": "python",
   "name": "python3"
  },
  "language_info": {
   "codemirror_mode": {
    "name": "ipython",
    "version": 3
   },
   "file_extension": ".py",
   "mimetype": "text/x-python",
   "name": "python",
   "nbconvert_exporter": "python",
   "pygments_lexer": "ipython3",
   "version": "3.9.12"
  },
  "orig_nbformat": 4,
  "vscode": {
   "interpreter": {
    "hash": "14c7cab673af88ce617b40508c0533212abf14cef8b231d6d2409ab97f374b5b"
   }
  }
 },
 "nbformat": 4,
 "nbformat_minor": 2
}
