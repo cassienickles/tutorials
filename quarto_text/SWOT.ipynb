{
  "cells": [
    {
      "cell_type": "raw",
      "metadata": {},
      "source": [
        "---\n",
        "title: SWOT\n",
        "subtitle: SWOT Data Tutorials - Get Started with Sample Data!\n",
        "---"
      ],
      "id": "4c7d8508"
    },
    {
      "cell_type": "markdown",
      "metadata": {},
      "source": [
        "## SWOT Background\n",
        "\n",
        "The Surface Water and Ocean Topography (SWOT) mission aims to provide valuable data and information about the world's oceans and its terrestrial surface water such as lakes, rivers, and wetlands. SWOT is being developed jointly by NASA and Centre National D'Etudes Spatiales (CNES), with contributions from the Canadian Space Agency (CSA) and United Kingdom Space Agency (UKSA). The mission is targeted to launch in December 2022. PO.DAAC is the NASA archive for the SWOT mission, and once launched will be making data available via the NASA Earthdata Cloud (hosted in AWS) with direct download capabilities still available.\n",
        "\n",
        "![More information can be found on [PO.DAAC's SWOT webpage](https://podaac.jpl.nasa.gov/SWOT).](../images/podaac_swot_landing_page.png){fig-alt=\"Screenshot of PO.DAAC's SWOT landing page\" fig-align=\"center\" width=\"80%\"}\n",
        "\n",
        "PO.DAAC will host a variety of [SWOT data products](https://podaac.jpl.nasa.gov/SWOT?tab=datasets). Their product description documents can be found in the chart listing each dataset. Before these SWOT products are available, we have [SWOT simulated datasets](https://podaac.jpl.nasa.gov/SWOT?tab=datasets&sections=about%2Bdata) encompassing both oceanography and hydrology sample data. This data is not for analysis, but rather to become comfortable with future SWOT products data formats and access mechanisms.\n",
        "\n",
        "## SWOT Data Resources & Tutorials\n",
        "\n",
        "### Search \n",
        "\n",
        "Find/download [simulated SWOT data on Earthdata Search](https://search.earthdata.nasa.gov/search?q=simulated%20swot)\n",
        "\n",
        "[Search programmatically with unique SWORD river reach ID](../notebooks/SWORD_River_Demo.ipynb)\n",
        "\n",
        "[Search programmatically with unique Hydrologic Unit Code (HUC) basin ID](../notebooks/HUC Feature Translation Service Examples-updated-20210804.ipynb)\n",
        "\n",
        "### Download/subscribe\n",
        "\n",
        "PO.DAAC subscriber/downloader examples: For more information, see [https://github.com/podaac/data-subscriber](https://github.com/podaac/data-subscriber)\n",
        "\n",
        "**Hydrology:** *In the command line, these examples will download either the river vector files or the raster files for a location in Texas with multiple passes:*"
      ],
      "id": "23fb4235"
    },
    {
      "cell_type": "code",
      "metadata": {},
      "source": [
        "podaac-data-downloader -c SWOT_SIMULATED_NA_CONTINENT_L2_HR_RiverSP_V1 -d ./SWOT_SIMULATED_NA_CONTINENT_L2_HR_RiverSP_V1 --start-date 2022-08-02T00:00:00Z --end-date 2022-08-22T00:00:00Z -b=\"-97,32.5,-96.5,33\""
      ],
      "id": "828bc3ee",
      "execution_count": null,
      "outputs": []
    },
    {
      "cell_type": "markdown",
      "metadata": {},
      "source": [
        "`podaac-data-downloader -c SWOT_SIMULATED_NA_CONTINENT_L2_HR_Raster_V1 -d ./SWOT_SIMULATED_NA_CONTINENT_L2_HR_Raster_V1 --start-date 2022-08-02T00:00:00Z --end-date 2022-08-22T00:00:00Z -b=\"-97,32.5,-96.5,33\"`\n",
        "\n",
        "**Oceanography:** *In the command line, this example will download modeled sea surface heights:*\n",
        "`podaac-data-subscriber -c SWOT_SIMULATED_L2_KARIN_SSH_GLORYS_CALVAL_V1 -d ./data/SWOT_SIMULATED_L2_KARIN_SSH_GLORYS_CALVAL_V1 --start-date 2014-04-12T12:00:00Z`\n",
        "\n",
        "\n",
        "### In-cloud Access\n",
        "\n",
        "[Access sample SWOT Hydrology data in the cloud](../notebooks/meetings_workshops/swot_ea_workshop_sept2022/SWOTHR_s3Access.ipynb)\n",
        "\n",
        "Access sample SWOT Oceanography data in the cloud - *coming soon*\n",
        "\n",
        "### GIS workflows\n",
        "\n",
        "[GIS shapefile exploration](../notebooks/GIS/SWOTsample_GISshapefiles.ipynb)\n",
        "\n",
        "### Transform\n",
        "\n",
        "[Transform SWOT Hydrology river reach shapefiles into time series](../notebooks/GIS/SWOTsample_CSVconversion.ipynb) - *This tutorial is in development*\n",
        "\n",
        "Subset by bounding box - *Experimental* - *coming soon*\n",
        "\n",
        "## Additional Resources\n",
        "\n",
        "### 2022 SWOT Ocean Cloud Workshop\n",
        "\n",
        "[**https://podaac.github.io/2022-SWOT-Ocean-Cloud-Workshop/**](https://podaac.github.io/2022-SWOT-Ocean-Cloud-Workshop/){.uri}\n",
        "\n",
        "The goal of the workshop was to enable the (oceanography) science team to be ready for processing and handling the large volumes of SWOT SSH data in the cloud. Learning objectives focus on how to access the [simulated SWOT L2 SSH data](https://podaac.jpl.nasa.gov/announcements/2022-01-31-Release-simulated-SWOT-SSH-version1-datasets) from Earthdata Cloud either by downloading or accessing the data on the cloud."
      ],
      "id": "e0590ff3"
    }
  ],
  "metadata": {
    "kernelspec": {
      "name": "python3",
      "language": "python",
      "display_name": "Python 3 (ipykernel)"
    }
  },
  "nbformat": 4,
  "nbformat_minor": 5
}